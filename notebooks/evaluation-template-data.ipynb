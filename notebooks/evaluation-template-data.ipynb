{
    "cells": [
        {
            "cell_type": "code",
            "execution_count": 21,
            "metadata": {},
            "outputs": [],
            "source": [
                "import json\n",
                "import re\n",
                "\n",
                "from utils import query\n",
                "\n",
                "from sumeval.metrics.rouge import RougeCalculator\n",
                "import numpy as np"
            ]
        },
        {
            "cell_type": "markdown",
            "metadata": {},
            "source": [
                "## Build Lookup Files"
            ]
        },
        {
            "cell_type": "code",
            "execution_count": 22,
            "metadata": {},
            "outputs": [],
            "source": [
                "db_file = '../src/data/mimic_iii_processed/mimic.db'\n",
                "model = query(db_file)\n",
                "(db_meta, db_tabs, db_head) = model._load_db(db_file)\n",
                "\n",
                "\n",
                "for tb in db_meta:\n",
                "    for hd in db_meta[tb]:\n",
                "        mysql = 'select distinct {} from {}'.format(hd, tb)\n",
                "        myres = model.execute_sql(mysql).fetchall()\n",
                "        myres = list({k[0]: {} for k in myres if not k[0] == None})\n",
                "        db_meta[tb][hd] = myres"
            ]
        },
        {
            "cell_type": "code",
            "execution_count": 23,
            "metadata": {},
            "outputs": [],
            "source": [
                "headerDic = []\n",
                "for tb in db_meta:\n",
                "    for hd in db_meta[tb]:\n",
                "        headerDic.append('.'.join([tb,hd]).lower())"
            ]
        },
        {
            "cell_type": "code",
            "execution_count": 24,
            "metadata": {},
            "outputs": [
                {
                    "name": "stdout",
                    "output_type": "stream",
                    "text": [
                        "Total samples: 1000\n"
                    ]
                }
            ],
            "source": [
                "generated_sql_file = open('../src/data/generated-sql/predicted-template-sql.json', 'r')\n",
                "\n",
                "total_samples = 0\n",
                "for _ in generated_sql_file:\n",
                "    total_samples += 1\n",
                "\n",
                "generated_sql_file.close()\n",
                "\n",
                "print(f\"Total samples: {total_samples}\")"
            ]
        },
        {
            "cell_type": "markdown",
            "metadata": {},
            "source": [
                "## Logic Form Accuracy:"
            ]
        },
        {
            "cell_type": "code",
            "execution_count": 25,
            "metadata": {},
            "outputs": [],
            "source": [
                "cnt = 0\n",
                "sql_rec_logic = []\n",
                "generated_sql_file = open('../src/data/generated-sql/predicted-template-sql.json', 'r')\n",
                "\n",
                "for line in generated_sql_file:\n",
                "    line = json.loads(line)\n",
                "    pred = re.split('<stop>', line['pred_sql'])[0]\n",
                "    real_sql = line['input_sql']\n",
                "\n",
                "    predArr = re.split(\"where\", pred)\n",
                "    predAgg = re.split(\"\\s\", predArr[0])\n",
                "    predAgg = list(filter(None, predAgg))\n",
                "    predAgg2 = []\n",
                "    for k in range(len(predAgg)-1):\n",
                "        if predAgg[k] in headerDic and predAgg[k+1] in headerDic:\n",
                "            predAgg2.append(predAgg[k] + ',')\n",
                "        else:\n",
                "            predAgg2.append(predAgg[k])\n",
                "    predAgg2.append(predAgg[-1])\n",
                "    predAgg = ' '.join(predAgg2)\n",
                "    \n",
                "    predCon = re.split(\"and\", predArr[1])\n",
                "    predConNew = []\n",
                "    k = 0\n",
                "    while k < len(predCon):\n",
                "        if \"=\" in predCon[k] or \"<\" in predCon[k] or \">\" in predCon[k] or \">\" in predCon[k]:\n",
                "            predConNew.append(predCon[k])\n",
                "        else:\n",
                "            if(len(predConNew) > 0):\n",
                "                predConNew[-1] += \" and \" + predCon[k]\n",
                "            k += 1\n",
                "        k += 1\n",
                "    for k in range(len(predConNew)):\n",
                "        if \"=\" in predConNew[k]:\n",
                "            conOp = \"=\"\n",
                "        if \">\" in predConNew[k]:\n",
                "            conOp = \">\"\n",
                "        if \"<\" in predConNew[k]:\n",
                "            conOp = \"<\"\n",
                "        if \"<=\" in predConNew[k]:\n",
                "            conOp = \"<=\"\n",
                "        if \">=\" in predConNew[k]:\n",
                "            conOp = \">=\"\n",
                "        conVal = re.split(\"=|<|>\", predConNew[k])\n",
                "        conVal = list(filter(None, conVal))\n",
                "        conCol = conVal[0]\n",
                "        conColArr = re.split('\\.|\\s', conCol)\n",
                "        conColArr = list(filter(None, conColArr))\n",
                "        try:\n",
                "            pool_ = db_meta[conColArr[0].upper()][conColArr[1].upper()]\n",
                "        except:\n",
                "            sql_rec_logic.append([\"Error\", real_sql])\n",
                "            continue\n",
                "        conVal = re.split('\"|\\s', conVal[-1])\n",
                "        conVal = list(filter(None, conVal))\n",
                "        conVal = ' '.join(conVal)\n",
                "        predConNew[k] = conCol + conOp + ' \"' + conVal + '\"'\n",
                "\n",
                "    pred = predAgg + ' where ' + ' and '.join(predConNew)\n",
                "    pred = re.split(\"\\s\", pred)\n",
                "    pred = list(filter(None, pred))\n",
                "    pred = \" \".join(pred)\n",
                "\n",
                "    sql_rec_logic.append([pred, real_sql])\n",
                "    try:\n",
                "        myres = model.execute_sql(pred).fetchall()\n",
                "        myres = list({k[0]: {} for k in myres if not k[0] == None})\n",
                "        cnt += 1\n",
                "    except:\n",
                "        pass\n",
                "    \n",
                "generated_sql_file.close()"
            ]
        },
        {
            "cell_type": "code",
            "execution_count": 26,
            "metadata": {},
            "outputs": [
                {
                    "name": "stdout",
                    "output_type": "stream",
                    "text": [
                        "Logic Form Accuracy: 0.595\n"
                    ]
                }
            ],
            "source": [
                "correct = 0\n",
                "for itm in sql_rec_logic:\n",
                "    if itm[0] == itm[1]:\n",
                "        correct += 1\n",
                "print(f'Logic Form Accuracy: {round(correct/total_samples, 4)}')"
            ]
        },
        {
            "cell_type": "markdown",
            "metadata": {},
            "source": [
                "## Execution Accuracy"
            ]
        },
        {
            "cell_type": "code",
            "execution_count": 27,
            "metadata": {},
            "outputs": [
                {
                    "name": "stdout",
                    "output_type": "stream",
                    "text": [
                        "842\n"
                    ]
                }
            ],
            "source": [
                "generated_sql_file = open('../src/data/generated-sql/predicted-template-sql.json', 'r')\n",
                "\n",
                "cnt = 0\n",
                "lblb = 0\n",
                "sql_rec_exec = []\n",
                "for line in generated_sql_file:\n",
                "    line = json.loads(line)\n",
                "    pred = re.split('<stop>', line['pred_sql'])[0]\n",
                "    ttt = line['input_sql']\n",
                "\n",
                "#     print(pred)\n",
                "    predArr = re.split(\"where\", pred)\n",
                "    predAgg = re.split(\"\\s\", predArr[0])\n",
                "    predAgg = list(filter(None, predAgg))\n",
                "    predAgg2 = []\n",
                "    for k in range(len(predAgg)-1):\n",
                "        if predAgg[k] in headerDic and predAgg[k+1] in headerDic:\n",
                "            predAgg2.append(predAgg[k] + ',')\n",
                "        else:\n",
                "            predAgg2.append(predAgg[k])\n",
                "    predAgg2.append(predAgg[-1])\n",
                "    predAgg = ' '.join(predAgg2)\n",
                "    \n",
                "    predCon = re.split(\"and\", predArr[1])\n",
                "    predConNew = []\n",
                "    k = 0\n",
                "    while k < len(predCon):\n",
                "        if \"=\" in predCon[k] or \"<\" in predCon[k] or \">\" in predCon[k]:\n",
                "            predConNew.append(predCon[k])\n",
                "        else:\n",
                "            if(len(predConNew) > 0):\n",
                "                predConNew[-1] += \" and \" + predCon[k]\n",
                "            k += 1\n",
                "        k += 1\n",
                "    for k in range(len(predConNew)):\n",
                "        if \"=\" in predConNew[k]:\n",
                "            conOp = \"=\"\n",
                "        if \">\" in predConNew[k]:\n",
                "            conOp = \">\"\n",
                "        if \"<\" in predConNew[k]:\n",
                "            conOp = \"<\"\n",
                "        if \"<=\" in predConNew[k]:\n",
                "            conOp = \"<=\"\n",
                "        if \">=\" in predConNew[k]:\n",
                "            conOp = \">=\"\n",
                "        conVal = re.split(\"=|<|>\", predConNew[k])\n",
                "        conVal = list(filter(None, conVal))\n",
                "        conCol = conVal[0]\n",
                "        conColArr = re.split('\\.|\\s', conCol)\n",
                "        conColArr = list(filter(None, conColArr))\n",
                "        try:\n",
                "            pool_ = db_meta[conColArr[0].upper()][conColArr[1].upper()]\n",
                "        except:\n",
                "            sql_rec_exec.append([\"Error\", ttt])\n",
                "            lblb = 1\n",
                "            break\n",
                "        conVal = re.split('\"|\\s', conVal[-1])\n",
                "        conVal = list(filter(None, conVal))\n",
                "        conVal = ' '.join(conVal)\n",
                "        try:\n",
                "            int(conVal)\n",
                "            predConNew[k] = conCol + conOp + ' \"' + conVal + '\"'\n",
                "        except:\n",
                "            predConNew[k] = 'lower(' + conCol + ')' + conOp + ' \"' + conVal + '\"'\n",
                "    \n",
                "    if lblb ==1:\n",
                "        lblb = 0\n",
                "        continue\n",
                "    pred = predAgg + ' where ' + ' and '.join(predConNew)\n",
                "    pred = re.split(\"\\s\", pred)\n",
                "    pred = list(filter(None, pred))\n",
                "    pred = \" \".join(pred)\n",
                "#     print(pred)\n",
                "#     print(ttt)\n",
                "#     print()\n",
                "    sql_rec_exec.append([pred, ttt])\n",
                "    try:\n",
                "        myres = model.execute_sql(pred).fetchall()\n",
                "        myres = list({k[0]: {} for k in myres if not k[0] == None})\n",
                "        cnt += 1\n",
                "    except:\n",
                "        pass\n",
                "    \n",
                "generated_sql_file.close()\n",
                "print(cnt)"
            ]
        },
        {
            "cell_type": "code",
            "execution_count": 28,
            "metadata": {},
            "outputs": [],
            "source": [
                "fp = open(\"../src/data/mimicsql_data/mimicsql_template/test.json\", 'r')\n",
                "cnt = 0\n",
                "for line in fp:\n",
                "    data = json.loads(line)\n",
                "    sql_rec_exec[cnt][1] = data['sql']\n",
                "    cnt += 1\n",
                "fp.close()"
            ]
        },
        {
            "cell_type": "code",
            "execution_count": 29,
            "metadata": {},
            "outputs": [],
            "source": [
                "correct = 0\n",
                "for itm in sql_rec_exec:\n",
                "    [pred, real_sql] = itm\n",
                "    try:\n",
                "        outPred = model.execute_sql(pred).fetchall()\n",
                "        outTtt = model.execute_sql(real_sql).fetchall()\n",
                "    except:\n",
                "        continue\n",
                "    if outPred == outTtt:\n",
                "        correct += 1\n",
                "print(f'Execution Accuracy: {round(correct/total_samples, 4)}')"
            ]
        },
        {
            "cell_type": "markdown",
            "metadata": {},
            "source": [
                "## Logic Form Accuracy + Recover"
            ]
        },
        {
            "cell_type": "code",
            "execution_count": null,
            "metadata": {},
            "outputs": [],
            "source": [
                "rouge = RougeCalculator(stopwords=False, lang=\"en\")"
            ]
        },
        {
            "cell_type": "code",
            "execution_count": null,
            "metadata": {},
            "outputs": [],
            "source": [
                "def find_best(input_, pool_):\n",
                "    score_ = []\n",
                "    for itm in pool_:\n",
                "        input_ = input_.lower()\n",
                "        itm = str(itm).lower()\n",
                "        score_.append(rouge.rouge_n(summary=input_, references=itm, n=1))\n",
                "    \n",
                "    if np.sum(score_) == 0:\n",
                "        score_ = []\n",
                "        input2_ = ' '.join(list(input_)).lower()\n",
                "        for itm in pool_:\n",
                "            itm2 = ' '.join(list(str(itm))).lower()\n",
                "            score_.append(rouge.rouge_n(summary=input2_, references=itm2, n=1))\n",
                "    \n",
                "    return str(pool_[np.argmax(score_)])"
            ]
        },
        {
            "cell_type": "code",
            "execution_count": null,
            "metadata": {},
            "outputs": [
                {
                    "name": "stdout",
                    "output_type": "stream",
                    "text": [
                        "842\n"
                    ]
                }
            ],
            "source": [
                "generated_sql_file = open('../src/data/generated-sql/predicted-template-sql.json', 'r')\n",
                "\n",
                "cnt = 0\n",
                "lblb = 0\n",
                "sql_rec_recover = []\n",
                "for line in generated_sql_file:\n",
                "    line = json.loads(line)\n",
                "\n",
                "    pred = re.split('<stop>', line['pred_sql'])[0]\n",
                "    real_sql = line['input_sql']\n",
                "\n",
                "    predArr = re.split(\"where\", pred)\n",
                "    predAgg = re.split(\"\\s\", predArr[0])\n",
                "    predAgg = list(filter(None, predAgg))\n",
                "    predAgg2 = []\n",
                "    for k in range(len(predAgg)-1):\n",
                "        if predAgg[k] in headerDic and predAgg[k+1] in headerDic:\n",
                "            predAgg2.append(predAgg[k] + ',')\n",
                "        else:\n",
                "            predAgg2.append(predAgg[k])\n",
                "    predAgg2.append(predAgg[-1])\n",
                "    predAgg = ' '.join(predAgg2)\n",
                "    \n",
                "    predCon = re.split(\"and\", predArr[1])\n",
                "    predConNew = []\n",
                "    k = 0\n",
                "    while k < len(predCon):\n",
                "        if \"=\" in predCon[k] or \"<\" in predCon[k] or \">\" in predCon[k]:\n",
                "            predConNew.append(predCon[k])\n",
                "        else:\n",
                "            if(len(predConNew) > 0):\n",
                "                predConNew[-1] += \" and \" + predCon[k]\n",
                "            k += 1\n",
                "        k += 1\n",
                "    for k in range(len(predConNew)):\n",
                "        if \"=\" in predConNew[k]:\n",
                "            conOp = \"=\"\n",
                "        if \">\" in predConNew[k]:\n",
                "            conOp = \">\"\n",
                "        if \"<\" in predConNew[k]:\n",
                "            conOp = \"<\"\n",
                "        if \"<=\" in predConNew[k]:\n",
                "            conOp = \"<=\"\n",
                "        if \">=\" in predConNew[k]:\n",
                "            conOp = \">=\"\n",
                "        conVal = re.split(\"=|<|>\", predConNew[k])\n",
                "        conVal = list(filter(None, conVal))\n",
                "        conCol = conVal[0]\n",
                "        conColArr = re.split('\\.|\\s', conCol)\n",
                "        conColArr = list(filter(None, conColArr))\n",
                "        try:\n",
                "            pool_ = db_meta[conColArr[0].upper()][conColArr[1].upper()]\n",
                "        except:\n",
                "            sql_rec_recover.append([\"Error\", real_sql])\n",
                "            lblb = 1\n",
                "            break\n",
                "        conVal = re.split('\"|\\s', conVal[-1])\n",
                "        conVal = list(filter(None, conVal))\n",
                "        conVal = ' '.join(conVal)\n",
                "        predConNew[k] = conCol + conOp + ' \"' + find_best(conVal, pool_) + '\"'\n",
                "    if lblb == 1:\n",
                "        lblb = 0\n",
                "        continue\n",
                "\n",
                "    pred = predAgg + ' where ' + ' and '.join(predConNew)\n",
                "    pred = re.split(\"\\s\", pred)\n",
                "    pred = list(filter(None, pred))\n",
                "    pred = \" \".join(pred)\n",
                "    # print(\"pred\",pred)\n",
                "    # print(\"real_sql\",real_sql)\n",
                "    # print(\"\\n\")\n",
                "    sql_rec_recover.append([pred, real_sql])\n",
                "    try:\n",
                "        myres = model.execute_sql(pred).fetchall()\n",
                "        myres = list({k[0]: {} for k in myres if not k[0] == None})\n",
                "        cnt += 1\n",
                "    except:\n",
                "        pass\n",
                "    \n",
                "generated_sql_file.close()\n",
                "print(cnt)"
            ]
        },
        {
            "cell_type": "code",
            "execution_count": null,
            "metadata": {},
            "outputs": [],
            "source": [
                "fout = open('../src/data/generated-sql/recovered_template_output.json', 'w')\n",
                "for itm in sql_rec_recover:\n",
                "    tmp = {'sql_true': itm[1], 'sql_pred_recovered': itm[0]}\n",
                "    data = json.dumps(tmp)\n",
                "    fout.write(data+'\\n')\n",
                "fout.close()"
            ]
        },
        {
            "cell_type": "code",
            "execution_count": null,
            "metadata": {},
            "outputs": [
                {
                    "name": "stdout",
                    "output_type": "stream",
                    "text": [
                        "Logic Form Accuracy + Recover: 0.239\n"
                    ]
                }
            ],
            "source": [
                "correct = 0\n",
                "for itm in sql_rec_recover:\n",
                "    arr = re.split(',|\\s', itm[0].lower())\n",
                "    arr = list(filter(None, arr))\n",
                "    arr = ' '.join(arr)\n",
                "    if arr == itm[1]:\n",
                "        correct += 1\n",
                "    \n",
                "print(f'Logic Form Accuracy + Recover: {correct/total_samples}')"
            ]
        },
        {
            "cell_type": "markdown",
            "metadata": {},
            "source": [
                "## Execution Accuracy + Recover"
            ]
        },
        {
            "cell_type": "code",
            "execution_count": null,
            "metadata": {},
            "outputs": [],
            "source": [
                "fp = open(\"../src/data/mimicsql_data/mimicsql_template/test.json\", 'r')\n",
                "\n",
                "cnt = 0\n",
                "for line in fp:\n",
                "    data = json.loads(line)\n",
                "    sql_rec_recover[cnt][1] = data['sql']\n",
                "    cnt += 1\n",
                "fp.close()"
            ]
        },
        {
            "cell_type": "code",
            "execution_count": null,
            "metadata": {},
            "outputs": [
                {
                    "name": "stdout",
                    "output_type": "stream",
                    "text": [
                        "Execution Accuracy + Recover: 0.394\n"
                    ]
                }
            ],
            "source": [
                "correct = 0\n",
                "for itm in sql_rec_recover:\n",
                "    [pred, real_sql] = itm\n",
                "    try:\n",
                "        outPred = model.execute_sql(pred).fetchall()\n",
                "        outTtt = model.execute_sql(real_sql).fetchall()\n",
                "    except:\n",
                "        continue\n",
                "    if outPred == outTtt:\n",
                "        correct += 1\n",
                "print(f'Execution Accuracy + Recover: {round(correct/total_samples, 4)}')"
            ]
        },
        {
            "cell_type": "markdown",
            "metadata": {},
            "source": []
        }
    ],
    "metadata": {
        "interpreter": {
            "hash": "b1313075155dc5471020a12a11d76326f8c213b042c043b09c00ece7a9546413"
        },
        "kernelspec": {
            "display_name": "Python 3.8.10 ('.venv': venv)",
            "language": "python",
            "name": "python3"
        },
        "language_info": {
            "codemirror_mode": {
                "name": "ipython",
                "version": 3
            },
            "file_extension": ".py",
            "mimetype": "text/x-python",
            "name": "python",
            "nbconvert_exporter": "python",
            "pygments_lexer": "ipython3",
            "version": "3.8.10"
        },
        "orig_nbformat": 4
    },
    "nbformat": 4,
    "nbformat_minor": 2
}
